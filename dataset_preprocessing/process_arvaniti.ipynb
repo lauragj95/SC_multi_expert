{
 "cells": [
  {
   "cell_type": "code",
   "execution_count": null,
   "metadata": {},
   "outputs": [],
   "source": [
    "import os\n",
    "from skimage.io import imread,imsave\n",
    "import numpy as np\n",
    "from utils import process_mask\n",
    "\n",
    "\n",
    "dir = '/datadisk/datasets/Arvaniti/'"
   ]
  },
  {
   "cell_type": "code",
   "execution_count": null,
   "metadata": {},
   "outputs": [],
   "source": [
    "files = os.listdir(f'{dir}masks')"
   ]
  },
  {
   "cell_type": "code",
   "execution_count": null,
   "metadata": {},
   "outputs": [],
   "source": [
    "patients = []\n",
    "for file in files:\n",
    "    patient = file.split('_')[1]\n",
    "    patients.append(patient)"
   ]
  },
  {
   "cell_type": "code",
   "execution_count": null,
   "metadata": {},
   "outputs": [],
   "source": [
    "np.unique(patients,return_counts=True)"
   ]
  },
  {
   "cell_type": "code",
   "execution_count": null,
   "metadata": {},
   "outputs": [],
   "source": [
    "classes = {}\n",
    "for file in files:\n",
    "    mask = imread(f'{dir}masks/{file}')\n",
    "    classes[file] = np.unique(mask)"
   ]
  },
  {
   "cell_type": "code",
   "execution_count": null,
   "metadata": {},
   "outputs": [],
   "source": [
    "selected_files = {}\n",
    "for key,value in classes.items():\n",
    "    if len(value) > 2 or 5 in value or 1 in value:\n",
    "        selected_files[key] = value"
   ]
  },
  {
   "cell_type": "code",
   "execution_count": null,
   "metadata": {},
   "outputs": [],
   "source": [
    "reduced_selected_files = ['mask_ZT76_39_B_5_4.png',\n",
    "                          'mask_ZT199_1_B_4_12',\n",
    "                           'mask_ZT204_6_B_8_2.png',\n",
    "                            'mask_ZT204_6_B_8_3.png',\n",
    "                            'mask_ZT111_4_A_4_2',\n",
    "                            'mask_ZT204_6_B_8_6.png',\n",
    "                            'mask_ZT204_6_A_8_9',\n",
    "                          'mask_ZT76_39_B_6_3.png',\n",
    "                          'mask_ZT199_1_A_6_5.png',\n",
    "                          'mask_ZT76_39_A_6_11.png',\n",
    "                          'mask_ZT76_39_A_6_12.png',\n",
    "                          'mask_ZT76_39_B_6_5.png',\n",
    "                          'mask_ZT111_4_B_6_2.png',\n",
    "                          'mask_ZT204_6_B_2_6.png',\n",
    "                          'mask_ZT204_6_A_8_6.png',\n",
    "                        'mask_ZT199_1_B_2_9.png',\n",
    "                        'mask_ZT199_1_A_6_4.png',\n",
    "                        'mask_ZT76_39_A_1_1.png',\n",
    "                        'mask_ZT76_39_A_4_2.png',\n",
    "                        'mask_ZT76_39_A_1_6.png',\n",
    "                        'mask_ZT111_4_A_4_5.png',\n",
    "                        'mask_ZT111_4_B_5_14.png',\n",
    "                        'mask_ZT111_4_A_7_2.png',\n",
    "]"
   ]
  },
  {
   "cell_type": "code",
   "execution_count": null,
   "metadata": {},
   "outputs": [],
   "source": [
    "\"\"\" VOC 2012 dataset: colormap and class names \"\"\"\n",
    "VOC_COLORMAP = [\n",
    "    [255, 255, 255], # ignore class is white (index 4)\n",
    "    [0, 255, 0], # benign is green (index 0)\n",
    "                    [0, 0, 255], # Gleason 3 is blue (index 1)\n",
    "                    [255, 255, 0], # Gleason 4 is yellow (index 2)\n",
    "                    [255, 0, 0], # Gleason 5 is red (index 3)\n",
    "                    \n",
    "]\n",
    "\n",
    "VOC_CLASSES = [\n",
    "    '0','1', '3', '4', '5'\n",
    "]\n",
    "\n",
    "classes = []\n",
    "for file in files:\n",
    "    try:\n",
    "        mask = imread(f'{dir}/masks/{file}')\n",
    "        \"\"\" Processing the mask to one-hot mask \"\"\"\n",
    "        processed_mask = process_mask(mask, VOC_COLORMAP)\n",
    "        \n",
    "        final_mask = np.argmax(processed_mask, axis=-1)\n",
    "        final_mask[final_mask>1] +=1 \n",
    "        classes.extend(np.unique(final_mask))\n",
    "        imsave(f'{dir}/process_masks/{file}',final_mask.astype('uint8'))\n",
    "    except:\n",
    "        print(file)\n"
   ]
  },
  {
   "cell_type": "code",
   "execution_count": null,
   "metadata": {},
   "outputs": [],
   "source": [
    "\n",
    "import matplotlib.pyplot as plt\n",
    "from matplotlib.colors import LinearSegmentedColormap \n",
    "import matplotlib.patches as mpatches\n",
    "labels_dict = {0:'0',1:'1',2:'2',3:'3',4:'4',5:'5'}\n",
    "plt.figure(figsize=(10, 10))\n",
    "expert_ann = final_mask\n",
    "cl,count = np.unique(expert_ann,return_counts=True)\n",
    "cl_counts = dict(zip(cl,count))\n",
    "map_name = LinearSegmentedColormap.from_list(\"\", [\"black\",\"red\",\"blue\", \"green\",\"yellow\",\"pink\"])\n",
    "axarr2=plt.imshow(expert_ann,cmap=map_name)\n",
    "values = np.unique(expert_ann)\n",
    "new_labels = [labels_dict[val] for val in values]\n",
    "colors = [ axarr2.cmap(axarr2.norm(value)) for value in values]\n",
    "patches = [ mpatches.Patch(color=colors[i], label=new_labels[i]) for i in range(len(new_labels)) ]\n",
    "plt.legend(handles=patches,loc=4, bbox_to_anchor=(1.0, 0),borderaxespad=0.,fontsize = 'x-large')\n",
    "plt.tick_params(axis='both',which='both',bottom=False,top=False,labelbottom=False,labeltop=False)\n",
    "plt.axis('off')\n",
    "plt.show()"
   ]
  }
 ],
 "metadata": {
  "kernelspec": {
   "display_name": "multi",
   "language": "python",
   "name": "python3"
  },
  "language_info": {
   "codemirror_mode": {
    "name": "ipython",
    "version": 3
   },
   "file_extension": ".py",
   "mimetype": "text/x-python",
   "name": "python",
   "nbconvert_exporter": "python",
   "pygments_lexer": "ipython3",
   "version": "3.12.8"
  }
 },
 "nbformat": 4,
 "nbformat_minor": 2
}
