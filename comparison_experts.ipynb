{
 "cells": [
  {
   "cell_type": "code",
   "execution_count": 10,
   "metadata": {},
   "outputs": [],
   "source": [
    "import json\n",
    "import numpy as np\n",
    "import os\n",
    "from skimage.io import imread\n",
    "import matplotlib.pyplot as plt\n",
    "from utils.maps_creation import calculate_sc,calculate_smooth,calculate_soft\n",
    "from utils.metrics_computation import calculate_max_threshold\n",
    "\n",
    "\n",
    "dir = '/home/laura/Documents/dataset/PANDA/'\n",
    "n_experts = 3\n",
    "\n",
    "weights = []\n",
    "for i in range(n_experts):\n",
    "    weights.append(list(np.load(f'{dir}expert_masks/weights{i+1}_percentile.npy')))\n",
    "\n",
    "files_modif_json = json.load(open('files_modif.json'))\n",
    "files_modif = files_modif_json[f'{n_experts}_experts']\n"
   ]
  },
  {
   "cell_type": "code",
   "execution_count": null,
   "metadata": {},
   "outputs": [],
   "source": [
    "max_soft = []\n",
    "max_smooth = []\n",
    "max_sc = []\n",
    "\n",
    "\n",
    "for i,file in enumerate(files_modif):\n",
    "    print(f'{i}: {file}')\n",
    "    experts = []\n",
    "    for exp in range(n_experts):\n",
    "        experts.append(imread(f'{dir}expert_masks/{exp+1}/{file}'))\n",
    "\n",
    "    original = imread(f'{dir}train_masks/{file}')\n",
    "\n",
    "\n",
    "\n",
    "    _,_,soft_final = calculate_soft(experts)\n",
    "    _,_,smooth_final = calculate_smooth(experts)\n",
    "    _,_,sc_final = calculate_sc(experts,weights)\n",
    "\n",
    "\n",
    "\n",
    "    max_soft.append(calculate_max_threshold(original,soft_final))\n",
    "    max_smooth.append(calculate_max_threshold(original,smooth_final))\n",
    "    max_sc.append(calculate_max_threshold(original,sc_final))"
   ]
  },
  {
   "cell_type": "code",
   "execution_count": 14,
   "metadata": {},
   "outputs": [],
   "source": [
    "all_ious_sc = max_sc[0].copy()\n",
    "all_ious_soft = max_soft[0].copy()\n",
    "all_ious_smooth = max_smooth[0].copy()\n",
    "\n",
    "\n",
    "for i in range(1,len(max_sc)):\n",
    "    for key in max_sc[i].keys():\n",
    "        all_ious_sc[key] += max_sc[i][key]\n",
    "        all_ious_soft[key] += max_soft[i][key]\n",
    "        all_ious_smooth[key] += max_smooth[i][key]\n",
    "\n",
    "all_ious_sc = {k: v / len(max_sc) for k, v in all_ious_sc.items()}\n",
    "all_ious_soft = {k: v / len(max_soft) for k, v in all_ious_soft.items()}\n",
    "all_ious_smooth = {k: v / len(max_smooth) for k, v in all_ious_smooth.items()}"
   ]
  },
  {
   "cell_type": "code",
   "execution_count": null,
   "metadata": {},
   "outputs": [],
   "source": [
    "plt.plot(list(all_ious_sc.keys()), list(all_ious_sc.values()), color='r', label='SC')\n",
    "plt.plot(list(all_ious_sc.keys()), list(all_ious_soft.values()), color='g', label='Soft')\n",
    "plt.plot(list(all_ious_sc.keys()), list(all_ious_smooth.values()), color='b', label='Smooth')\n",
    "\n",
    "# Naming the x-axis, y-axis and the whole graph\n",
    "plt.xlabel(\"Threshold (Prob)\")\n",
    "plt.ylabel(\"Max(FNR,FPR)\")\n",
    "plt.legend()\n",
    "plt.savefig(f'results_figures/comparison_{n_experts}experts.png')\n",
    "plt.close(\"all\")"
   ]
  }
 ],
 "metadata": {
  "kernelspec": {
   "display_name": "multi",
   "language": "python",
   "name": "python3"
  },
  "language_info": {
   "codemirror_mode": {
    "name": "ipython",
    "version": 3
   },
   "file_extension": ".py",
   "mimetype": "text/x-python",
   "name": "python",
   "nbconvert_exporter": "python",
   "pygments_lexer": "ipython3",
   "version": "3.12.8"
  }
 },
 "nbformat": 4,
 "nbformat_minor": 2
}
