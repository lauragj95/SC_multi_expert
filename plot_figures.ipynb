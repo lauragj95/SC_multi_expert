{
 "cells": [
  {
   "cell_type": "code",
   "execution_count": 1,
   "metadata": {},
   "outputs": [],
   "source": [
    "import json\n",
    "import numpy as np\n",
    "import os\n",
    "from skimage.io import imread\n",
    "import matplotlib.pyplot as plt\n",
    "from utils.maps_creation import calculate_sc,calculate_smooth,calculate_soft\n",
    "from utils.metrics_computation import calculate_max_threshold\n",
    "from matplotlib.colors import LinearSegmentedColormap \n",
    "import matplotlib.patches as mpatches\n",
    "\n",
    "labels_dict = {0:'0',1:'1',2:'2',3:'3',4:'4',5:'5'}\n",
    "\n",
    "\n",
    "n_experts = 3\n",
    "\n",
    "dir = '/home/laura/Documents/dataset/PANDA/'\n",
    "\n",
    "weights = []\n",
    "for i in range(n_experts):\n",
    "    weights.append(list(np.load(f'{dir}expert_masks/weights{i+1}_percentile.npy')))\n",
    "\n"
   ]
  },
  {
   "cell_type": "code",
   "execution_count": null,
   "metadata": {},
   "outputs": [],
   "source": [
    "\n",
    "max_soft = []\n",
    "max_smooth = []\n",
    "max_sc = []\n",
    "\n",
    "file = 'c24bb6e1c14b242a4744d9854f738470_3.png'\n",
    "experts = []\n",
    "for exp in range(n_experts):\n",
    "    experts.append(imread(f'{dir}expert_masks/{exp+1}/{file}'))\n",
    "\n",
    "original = imread(f'{dir}train_masks/{file}')\n",
    "\n",
    "\n",
    "\n",
    "_,_,soft_final = calculate_soft(experts)\n",
    "_,_,smooth_final = calculate_smooth(experts)\n",
    "_,_,sc_final = calculate_sc(experts,weights)\n",
    "\n",
    "\n",
    "\n",
    "max_soft.append(calculate_max_threshold(original,soft_final))\n",
    "max_smooth.append(calculate_max_threshold(original,smooth_final))\n",
    "max_sc.append(calculate_max_threshold(original,sc_final))"
   ]
  },
  {
   "cell_type": "code",
   "execution_count": null,
   "metadata": {},
   "outputs": [],
   "source": [
    "\n",
    "plt.figure(figsize=(10, 10))\n",
    "expert_ann = original\n",
    "cl,count = np.unique(expert_ann,return_counts=True)\n",
    "cl_counts = dict(zip(cl,count))\n",
    "map_name = LinearSegmentedColormap.from_list(\"\", [\"black\",\"red\",\"blue\", \"green\",\"yellow\",\"pink\"])\n",
    "axarr2=plt.imshow(expert_ann,cmap=map_name)\n",
    "values = np.unique(expert_ann)\n",
    "new_labels = [labels_dict[val] for val in values]\n",
    "colors = [ axarr2.cmap(axarr2.norm(value)) for value in values]\n",
    "patches = [ mpatches.Patch(color=colors[i], label=new_labels[i]) for i in range(len(new_labels)) ]\n",
    "plt.legend(handles=patches,loc=4, bbox_to_anchor=(1.0, 0),borderaxespad=0.,fontsize = 'x-large')\n",
    "plt.tick_params(axis='both',which='both',bottom=False,top=False,labelbottom=False,labeltop=False)\n",
    "plt.axis('off')\n",
    "plt.show()"
   ]
  }
 ],
 "metadata": {
  "kernelspec": {
   "display_name": "multi",
   "language": "python",
   "name": "python3"
  },
  "language_info": {
   "codemirror_mode": {
    "name": "ipython",
    "version": 3
   },
   "file_extension": ".py",
   "mimetype": "text/x-python",
   "name": "python",
   "nbconvert_exporter": "python",
   "pygments_lexer": "ipython3",
   "version": "3.12.8"
  }
 },
 "nbformat": 4,
 "nbformat_minor": 2
}
