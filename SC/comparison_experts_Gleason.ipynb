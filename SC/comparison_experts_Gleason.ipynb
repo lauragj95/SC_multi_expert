{
 "cells": [
  {
   "cell_type": "code",
   "execution_count": 1,
   "metadata": {},
   "outputs": [],
   "source": [
    "import json\n",
    "import numpy as np\n",
    "import os\n",
    "from skimage.io import imread\n",
    "import matplotlib.pyplot as plt\n",
    "from utils.maps_creation import calculate_sc,calculate_smooth,calculate_soft\n",
    "from utils.metrics_computation import calculate_max_threshold\n",
    "\n",
    "\n",
    "dir = '/home/laura/Documents/dataset/Gleason19/'\n",
    "n_experts = 6\n",
    "files = os.listdir(f'{dir}imgs_crop')\n",
    "\n"
   ]
  },
  {
   "cell_type": "code",
   "execution_count": 2,
   "metadata": {},
   "outputs": [
    {
     "name": "stdout",
     "output_type": "stream",
     "text": [
      "0: slide005_core132.jpg\n"
     ]
    },
    {
     "name": "stderr",
     "output_type": "stream",
     "text": [
      "/home/laura/anaconda3/envs/multi/lib/python3.12/site-packages/torch/nn/modules/module.py:1736: UserWarning: Implicit dimension choice for softmax has been deprecated. Change the call to include dim=X as an argument.\n",
      "  return self._call_impl(*args, **kwargs)\n"
     ]
    },
    {
     "name": "stdout",
     "output_type": "stream",
     "text": [
      "1: slide006_core029.jpg\n"
     ]
    },
    {
     "name": "stderr",
     "output_type": "stream",
     "text": [
      "/home/laura/anaconda3/envs/multi/lib/python3.12/site-packages/torch/nn/modules/module.py:1736: UserWarning: Implicit dimension choice for softmax has been deprecated. Change the call to include dim=X as an argument.\n",
      "  return self._call_impl(*args, **kwargs)\n"
     ]
    },
    {
     "name": "stdout",
     "output_type": "stream",
     "text": [
      "2: slide002_core081.jpg\n"
     ]
    },
    {
     "name": "stderr",
     "output_type": "stream",
     "text": [
      "/home/laura/anaconda3/envs/multi/lib/python3.12/site-packages/torch/nn/modules/module.py:1736: UserWarning: Implicit dimension choice for softmax has been deprecated. Change the call to include dim=X as an argument.\n",
      "  return self._call_impl(*args, **kwargs)\n"
     ]
    },
    {
     "name": "stdout",
     "output_type": "stream",
     "text": [
      "3: slide005_core038.jpg\n"
     ]
    },
    {
     "name": "stderr",
     "output_type": "stream",
     "text": [
      "/home/laura/anaconda3/envs/multi/lib/python3.12/site-packages/torch/nn/modules/module.py:1736: UserWarning: Implicit dimension choice for softmax has been deprecated. Change the call to include dim=X as an argument.\n",
      "  return self._call_impl(*args, **kwargs)\n"
     ]
    },
    {
     "name": "stdout",
     "output_type": "stream",
     "text": [
      "4: slide002_core123.jpg\n"
     ]
    },
    {
     "name": "stderr",
     "output_type": "stream",
     "text": [
      "/home/laura/anaconda3/envs/multi/lib/python3.12/site-packages/torch/nn/modules/module.py:1736: UserWarning: Implicit dimension choice for softmax has been deprecated. Change the call to include dim=X as an argument.\n",
      "  return self._call_impl(*args, **kwargs)\n"
     ]
    },
    {
     "name": "stdout",
     "output_type": "stream",
     "text": [
      "5: slide005_core127.jpg\n"
     ]
    },
    {
     "name": "stderr",
     "output_type": "stream",
     "text": [
      "/home/laura/anaconda3/envs/multi/lib/python3.12/site-packages/torch/nn/modules/module.py:1736: UserWarning: Implicit dimension choice for softmax has been deprecated. Change the call to include dim=X as an argument.\n",
      "  return self._call_impl(*args, **kwargs)\n"
     ]
    },
    {
     "name": "stdout",
     "output_type": "stream",
     "text": [
      "6: slide001_core005.jpg\n"
     ]
    },
    {
     "name": "stderr",
     "output_type": "stream",
     "text": [
      "/home/laura/anaconda3/envs/multi/lib/python3.12/site-packages/torch/nn/modules/module.py:1736: UserWarning: Implicit dimension choice for softmax has been deprecated. Change the call to include dim=X as an argument.\n",
      "  return self._call_impl(*args, **kwargs)\n"
     ]
    },
    {
     "name": "stdout",
     "output_type": "stream",
     "text": [
      "7: slide006_core086.jpg\n"
     ]
    },
    {
     "name": "stderr",
     "output_type": "stream",
     "text": [
      "/home/laura/anaconda3/envs/multi/lib/python3.12/site-packages/torch/nn/modules/module.py:1736: UserWarning: Implicit dimension choice for softmax has been deprecated. Change the call to include dim=X as an argument.\n",
      "  return self._call_impl(*args, **kwargs)\n"
     ]
    },
    {
     "name": "stdout",
     "output_type": "stream",
     "text": [
      "8: slide002_core051.jpg\n"
     ]
    },
    {
     "name": "stderr",
     "output_type": "stream",
     "text": [
      "/home/laura/anaconda3/envs/multi/lib/python3.12/site-packages/torch/nn/modules/module.py:1736: UserWarning: Implicit dimension choice for softmax has been deprecated. Change the call to include dim=X as an argument.\n",
      "  return self._call_impl(*args, **kwargs)\n"
     ]
    },
    {
     "name": "stdout",
     "output_type": "stream",
     "text": [
      "9: slide003_core010.jpg\n"
     ]
    },
    {
     "name": "stderr",
     "output_type": "stream",
     "text": [
      "/home/laura/anaconda3/envs/multi/lib/python3.12/site-packages/torch/nn/modules/module.py:1736: UserWarning: Implicit dimension choice for softmax has been deprecated. Change the call to include dim=X as an argument.\n",
      "  return self._call_impl(*args, **kwargs)\n"
     ]
    },
    {
     "name": "stdout",
     "output_type": "stream",
     "text": [
      "10: slide002_core072.jpg\n"
     ]
    },
    {
     "name": "stderr",
     "output_type": "stream",
     "text": [
      "/home/laura/anaconda3/envs/multi/lib/python3.12/site-packages/torch/nn/modules/module.py:1736: UserWarning: Implicit dimension choice for softmax has been deprecated. Change the call to include dim=X as an argument.\n",
      "  return self._call_impl(*args, **kwargs)\n"
     ]
    },
    {
     "name": "stdout",
     "output_type": "stream",
     "text": [
      "11: slide001_core012.jpg\n"
     ]
    },
    {
     "name": "stderr",
     "output_type": "stream",
     "text": [
      "/home/laura/anaconda3/envs/multi/lib/python3.12/site-packages/torch/nn/modules/module.py:1736: UserWarning: Implicit dimension choice for softmax has been deprecated. Change the call to include dim=X as an argument.\n",
      "  return self._call_impl(*args, **kwargs)\n"
     ]
    },
    {
     "name": "stdout",
     "output_type": "stream",
     "text": [
      "12: slide006_core078.jpg\n"
     ]
    },
    {
     "name": "stderr",
     "output_type": "stream",
     "text": [
      "/home/laura/anaconda3/envs/multi/lib/python3.12/site-packages/torch/nn/modules/module.py:1736: UserWarning: Implicit dimension choice for softmax has been deprecated. Change the call to include dim=X as an argument.\n",
      "  return self._call_impl(*args, **kwargs)\n"
     ]
    },
    {
     "name": "stdout",
     "output_type": "stream",
     "text": [
      "13: slide001_core160.jpg\n"
     ]
    },
    {
     "name": "stderr",
     "output_type": "stream",
     "text": [
      "/home/laura/anaconda3/envs/multi/lib/python3.12/site-packages/torch/nn/modules/module.py:1736: UserWarning: Implicit dimension choice for softmax has been deprecated. Change the call to include dim=X as an argument.\n",
      "  return self._call_impl(*args, **kwargs)\n"
     ]
    },
    {
     "name": "stdout",
     "output_type": "stream",
     "text": [
      "14: slide005_core091.jpg\n"
     ]
    },
    {
     "name": "stderr",
     "output_type": "stream",
     "text": [
      "/home/laura/anaconda3/envs/multi/lib/python3.12/site-packages/torch/nn/modules/module.py:1736: UserWarning: Implicit dimension choice for softmax has been deprecated. Change the call to include dim=X as an argument.\n",
      "  return self._call_impl(*args, **kwargs)\n"
     ]
    },
    {
     "name": "stdout",
     "output_type": "stream",
     "text": [
      "15: slide006_core011.jpg\n"
     ]
    },
    {
     "name": "stderr",
     "output_type": "stream",
     "text": [
      "/home/laura/anaconda3/envs/multi/lib/python3.12/site-packages/torch/nn/modules/module.py:1736: UserWarning: Implicit dimension choice for softmax has been deprecated. Change the call to include dim=X as an argument.\n",
      "  return self._call_impl(*args, **kwargs)\n"
     ]
    },
    {
     "name": "stdout",
     "output_type": "stream",
     "text": [
      "16: slide001_core038.jpg\n"
     ]
    },
    {
     "name": "stderr",
     "output_type": "stream",
     "text": [
      "/home/laura/anaconda3/envs/multi/lib/python3.12/site-packages/torch/nn/modules/module.py:1736: UserWarning: Implicit dimension choice for softmax has been deprecated. Change the call to include dim=X as an argument.\n",
      "  return self._call_impl(*args, **kwargs)\n"
     ]
    },
    {
     "name": "stdout",
     "output_type": "stream",
     "text": [
      "17: slide002_core062.jpg\n"
     ]
    },
    {
     "name": "stderr",
     "output_type": "stream",
     "text": [
      "/home/laura/anaconda3/envs/multi/lib/python3.12/site-packages/torch/nn/modules/module.py:1736: UserWarning: Implicit dimension choice for softmax has been deprecated. Change the call to include dim=X as an argument.\n",
      "  return self._call_impl(*args, **kwargs)\n"
     ]
    },
    {
     "name": "stdout",
     "output_type": "stream",
     "text": [
      "18: slide002_core145.jpg\n"
     ]
    },
    {
     "name": "stderr",
     "output_type": "stream",
     "text": [
      "/home/laura/anaconda3/envs/multi/lib/python3.12/site-packages/torch/nn/modules/module.py:1736: UserWarning: Implicit dimension choice for softmax has been deprecated. Change the call to include dim=X as an argument.\n",
      "  return self._call_impl(*args, **kwargs)\n"
     ]
    },
    {
     "ename": "KeyError",
     "evalue": "0",
     "output_type": "error",
     "traceback": [
      "\u001b[0;31m---------------------------------------------------------------------------\u001b[0m",
      "\u001b[0;31mKeyError\u001b[0m                                  Traceback (most recent call last)",
      "Cell \u001b[0;32mIn[2], line 43\u001b[0m\n\u001b[1;32m     41\u001b[0m max_soft\u001b[38;5;241m.\u001b[39mappend(calculate_max_threshold(original,soft_final))\n\u001b[1;32m     42\u001b[0m max_smooth\u001b[38;5;241m.\u001b[39mappend(calculate_max_threshold(original,smooth_final))\n\u001b[0;32m---> 43\u001b[0m max_sc\u001b[38;5;241m.\u001b[39mappend(\u001b[43mcalculate_max_threshold\u001b[49m\u001b[43m(\u001b[49m\u001b[43moriginal\u001b[49m\u001b[43m,\u001b[49m\u001b[43msc_final\u001b[49m\u001b[43m)\u001b[49m)\n",
      "File \u001b[0;32m~/Documents/GitHub/multi-expert-transformer/utils/metrics_computation.py:12\u001b[0m, in \u001b[0;36mcalculate_max_threshold\u001b[0;34m(original, uncertainty_map)\u001b[0m\n\u001b[1;32m     10\u001b[0m cl,counts \u001b[38;5;241m=\u001b[39m np\u001b[38;5;241m.\u001b[39munique(diff,return_counts\u001b[38;5;241m=\u001b[39m\u001b[38;5;28;01mTrue\u001b[39;00m)\n\u001b[1;32m     11\u001b[0m cl_dict \u001b[38;5;241m=\u001b[39m \u001b[38;5;28mdict\u001b[39m(\u001b[38;5;28mzip\u001b[39m(cl\u001b[38;5;241m.\u001b[39mastype(\u001b[38;5;28mint\u001b[39m),counts))\n\u001b[0;32m---> 12\u001b[0m good_count \u001b[38;5;241m=\u001b[39m \u001b[43mcl_dict\u001b[49m\u001b[43m[\u001b[49m\u001b[38;5;241;43m0\u001b[39;49m\u001b[43m]\u001b[49m\n\u001b[1;32m     13\u001b[0m \u001b[38;5;28;01mif\u001b[39;00m \u001b[38;5;241m1\u001b[39m \u001b[38;5;129;01min\u001b[39;00m cl_dict\u001b[38;5;241m.\u001b[39mkeys():\n\u001b[1;32m     14\u001b[0m     bad_count \u001b[38;5;241m=\u001b[39m cl_dict[\u001b[38;5;241m1\u001b[39m]\n",
      "\u001b[0;31mKeyError\u001b[0m: 0"
     ]
    }
   ],
   "source": [
    "max_soft = []\n",
    "max_smooth = []\n",
    "max_sc = []\n",
    "\n",
    "\n",
    "for i,file in enumerate(files):\n",
    "    print(f'{i}: {file}')\n",
    "    weights = []\n",
    "    file_name = file.split('.')[0]\n",
    "    experts = []\n",
    "    for exp in range(n_experts):\n",
    "        if os.path.isfile(f'{dir}maps_crop/{exp+1}/{file_name}.png'):\n",
    "            expert= imread(f'{dir}maps_crop/{exp+1}/{file_name}.png')\n",
    "            if 2 in np.unique(expert):\n",
    "                expert[expert==2]= 1\n",
    "            if 3 in np.unique(expert):\n",
    "                expert[expert==3] = 2\n",
    "            if 4 in np.unique(expert):\n",
    "                expert[expert==4] = 3\n",
    "            if 5 in np.unique(expert):\n",
    "                expert[expert==5] = 4\n",
    "            experts.append(expert)\n",
    "            weights.append(list(np.load(f'{dir}weights/weights{exp+1}_percentile.npy')))\n",
    "    original = imread(f'{dir}staple/{file_name}.png')\n",
    "    if 2 in np.unique(original):\n",
    "        original[original==2] = 1\n",
    "    if 3 in np.unique(original):\n",
    "        original[original==3] = 2\n",
    "    if 4 in np.unique(original):\n",
    "        original[original==4] = 3\n",
    "    if 5 in np.unique(original):\n",
    "        original[original==5] = 4\n",
    "\n",
    "\n",
    "    _,_,soft_final = calculate_soft(experts)\n",
    "    _,_,smooth_final = calculate_smooth(experts)\n",
    "    _,_,sc_final = calculate_sc(experts,weights)\n",
    "\n",
    "\n",
    "\n",
    "    max_soft.append(calculate_max_threshold(original,soft_final))\n",
    "    max_smooth.append(calculate_max_threshold(original,smooth_final))\n",
    "    max_sc.append(calculate_max_threshold(original,sc_final))"
   ]
  },
  {
   "cell_type": "code",
   "execution_count": 14,
   "metadata": {},
   "outputs": [],
   "source": [
    "all_ious_sc = max_sc[0].copy()\n",
    "all_ious_soft = max_soft[0].copy()\n",
    "all_ious_smooth = max_smooth[0].copy()\n",
    "\n",
    "\n",
    "for i in range(1,len(max_sc)):\n",
    "    for key in max_sc[i].keys():\n",
    "        all_ious_sc[key] += max_sc[i][key]\n",
    "        all_ious_soft[key] += max_soft[i][key]\n",
    "        all_ious_smooth[key] += max_smooth[i][key]\n",
    "\n",
    "all_ious_sc = {k: v / len(max_sc) for k, v in all_ious_sc.items()}\n",
    "all_ious_soft = {k: v / len(max_soft) for k, v in all_ious_soft.items()}\n",
    "all_ious_smooth = {k: v / len(max_smooth) for k, v in all_ious_smooth.items()}"
   ]
  },
  {
   "cell_type": "code",
   "execution_count": null,
   "metadata": {},
   "outputs": [],
   "source": [
    "plt.plot(list(all_ious_sc.keys()), list(all_ious_sc.values()), color='r', label='SC')\n",
    "plt.plot(list(all_ious_sc.keys()), list(all_ious_soft.values()), color='g', label='Soft')\n",
    "plt.plot(list(all_ious_sc.keys()), list(all_ious_smooth.values()), color='b', label='Smooth')\n",
    "\n",
    "# Naming the x-axis, y-axis and the whole graph\n",
    "plt.xlabel(\"Threshold (Prob)\")\n",
    "plt.ylabel(\"Max(FNR,FPR)\")\n",
    "plt.legend()\n",
    "plt.savefig(f'results_figures/comparison_{n_experts}experts.png')\n",
    "plt.close(\"all\")"
   ]
  }
 ],
 "metadata": {
  "kernelspec": {
   "display_name": "multi",
   "language": "python",
   "name": "python3"
  },
  "language_info": {
   "codemirror_mode": {
    "name": "ipython",
    "version": 3
   },
   "file_extension": ".py",
   "mimetype": "text/x-python",
   "name": "python",
   "nbconvert_exporter": "python",
   "pygments_lexer": "ipython3",
   "version": "3.12.2"
  }
 },
 "nbformat": 4,
 "nbformat_minor": 2
}
